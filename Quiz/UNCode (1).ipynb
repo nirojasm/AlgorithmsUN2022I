{
  "nbformat": 4,
  "nbformat_minor": 0,
  "metadata": {
    "colab": {
      "name": "UNCode.ipynb",
      "provenance": []
    },
    "kernelspec": {
      "name": "python3",
      "display_name": "Python 3"
    },
    "language_info": {
      "name": "python"
    }
  },
  "cells": [
    {
      "cell_type": "markdown",
      "source": [
        "# 1. Min, max and average number of comparisons, swaps, comparison + swaps and passes for Bubble Sort Optimized\n",
        "\n",
        "Task: Given an integer  over all lists of arrays containing the permutations of  elemnets with repetitions and return the the min, max and average number of comparisons, swaps, comparison + swaps and passes.\n",
        "\n",
        "Input Format: The input consists of a single integer n .\n",
        "\n",
        "Constraints: \n",
        "\n",
        "Output Format: Min, max and average number of comparisons, min, max and average number of swaps, Min, max and average number of comparison + swaps and Min, max and average number of passes."
      ],
      "metadata": {
        "id": "xrETQoQO5zPa"
      }
    },
    {
      "cell_type": "code",
      "source": [
        "#Do not change this function's name, parameters or output format. It will be used in automatic grading.\n",
        "import itertools\n",
        "from itertools import product\n",
        "import numpy as np \n",
        "\n",
        "def bubbleSort( theSeq ):\n",
        "    n = len( theSeq )\n",
        "    comparations = 0\n",
        "    swaps = 0 \n",
        "    steps = 0\n",
        "    passes = 0\n",
        "    for i in range( n - 1 ) :\n",
        "        passes += 1\n",
        "        flag = 0\n",
        "        for j in range(n - 1) :\n",
        "            comparations += 1\n",
        "            if theSeq[j] > theSeq[j + 1] : \n",
        "                swaps += 1\n",
        "                tmp = theSeq[j]\n",
        "                theSeq[j] = theSeq[j + 1]\n",
        "                theSeq[j + 1] = tmp\n",
        "                flag = 1\n",
        "        n = n-1\n",
        "        if flag == 0:\n",
        "            break\n",
        "    steps = comparations + swaps\n",
        "\n",
        "    return [comparations,swaps,steps,passes]\n",
        "                \n",
        "def analysisBubbleSortOptAllCounters(n):\n",
        "    initial = list(range(1,n+1))\n",
        "    permutations = list(itertools.product(initial, repeat=n))\n",
        "    results = [[],[],[],[]]\n",
        "    for i in permutations:\n",
        "        result = bubbleSort(list(i))\n",
        "        results[0].append(result[0])\n",
        "        results[1].append(result[1])\n",
        "        results[2].append(result[2])\n",
        "        results[3].append(result[3])\n",
        "    min_comps = min(results[0])\n",
        "    max_comps = max(results[0])\n",
        "    mean_comps = sum(results[0]) / len(results[0])\n",
        "    min_swaps = min(results[1])\n",
        "    max_swaps = max(results[1])\n",
        "    mean_swaps = sum(results[1]) / len(results[1])\n",
        "    min_steps = min(results[2])\n",
        "    max_steps = max(results[2])\n",
        "    mean_steps = sum(results[2]) / len(results[2])\n",
        "    min_passes = min(results[3])\n",
        "    max_passes = max(results[3])\n",
        "    mean_passes = sum(results[3]) / len(results[3])\n",
        "\n",
        "    return min_comps,max_comps,round(mean_comps,2),min_swaps,max_swaps,round(mean_swaps,2),min_steps,max_steps,round(mean_steps,2),min_passes,max_passes,round(mean_passes,2)\n",
        "analysisBubbleSortOptAllCounters(5)"
      ],
      "metadata": {
        "colab": {
          "base_uri": "https://localhost:8080/"
        },
        "id": "J0PvXjj15ueO",
        "outputId": "2ca42a6c-eb72-4b9e-fefb-a44b698d7d15"
      },
      "execution_count": 16,
      "outputs": [
        {
          "output_type": "execute_result",
          "data": {
            "text/plain": [
              "(4, 10, 8.77, 0, 10, 4.0, 4, 20, 12.77, 1, 4, 3.11)"
            ]
          },
          "metadata": {},
          "execution_count": 16
        }
      ]
    },
    {
      "cell_type": "markdown",
      "source": [
        "# 2. Fibonacci Number Fast\n",
        "### Problem Description\n",
        "Task: Given an integer , find the 𝑛th Fibonacci number .\n",
        "\n",
        "Input Format: The input consists of a single integer .\n",
        "\n",
        "Constraints: 0 ≤ 𝑛 ≤ 100.\n",
        "\n",
        "Output Format: Output .\n",
        "\n",
        "Sample testcase\n",
        "\n",
        "```python\n",
        "#run this sample testcase on a cell to help you validate your solution\n",
        "\n",
        "fibonacci_fast(10)\n",
        "\n",
        "#𝐹_{10}= 55\n",
        "#  --> Expected output: 55\n",
        "\n",
        "fibonacci_fast(100)\n",
        "\n",
        "#𝐹_{100}= 354224848179261915075\n",
        "#  --> Expected output: 354224848179261915075\n",
        "```\n",
        "#### Solution"
      ],
      "metadata": {
        "id": "5-WwBNqwpNJp"
      }
    },
    {
      "cell_type": "code",
      "source": [
        "def fibonacci_fast(n):\n",
        "  \n",
        "    if (n <= 1):\n",
        "        return n\n",
        "\n",
        "    fib = []\n",
        "    fib.append(0)\n",
        "    fib.append(1)\n",
        "    for i in range(2, n+1):\n",
        "        fib.append(fib[-1] + fib[-2])\n",
        "\n",
        "    return fib[-1]\n",
        "print(fibonacci_fast(100))"
      ],
      "metadata": {
        "colab": {
          "base_uri": "https://localhost:8080/"
        },
        "id": "9kwBucDH655W",
        "outputId": "0d318326-e791-4f46-da56-a2a13e5907de"
      },
      "execution_count": 17,
      "outputs": [
        {
          "output_type": "stream",
          "name": "stdout",
          "text": [
            "354224848179261915075\n"
          ]
        }
      ]
    },
    {
      "cell_type": "code",
      "execution_count": 18,
      "metadata": {
        "id": "0iJcVC-hpHwq"
      },
      "outputs": [],
      "source": [
        "#Do not change this function's name, parameters or output format. It will be used in automatic grading.\n",
        "import math\n",
        "def fibonacci_fast(n):\n",
        "  \n",
        " #Your code goes here\n",
        "\tfn = 0\n",
        "\tMOD = 1000000007\n",
        "\tif(n < 2):\n",
        "\t\treturn n\n",
        "\n",
        "\ta = 0\n",
        "\tb = 1\n",
        "\tans = 0\n",
        "\ti = 1\n",
        "\n",
        "\twhile i < n:\n",
        "\t\tans = (a+b) % MOD\n",
        "\t\ta = b\n",
        "\t\tb = ans\n",
        "\t\ti = i+1\n",
        "\treturn ans;\n"
      ]
    },
    {
      "cell_type": "code",
      "source": [
        "fibonacci_fast(10)"
      ],
      "metadata": {
        "colab": {
          "base_uri": "https://localhost:8080/"
        },
        "id": "6KgiZnY8rIPD",
        "outputId": "d5a816d0-e57d-4324-c81e-832d85067cef"
      },
      "execution_count": 19,
      "outputs": [
        {
          "output_type": "execute_result",
          "data": {
            "text/plain": [
              "55"
            ]
          },
          "metadata": {},
          "execution_count": 19
        }
      ]
    },
    {
      "cell_type": "code",
      "source": [
        "fibonacci_fast(100)"
      ],
      "metadata": {
        "colab": {
          "base_uri": "https://localhost:8080/"
        },
        "id": "Ja5iDqWsrkQk",
        "outputId": "2679e488-de86-4a47-8c16-c7b227e5e531"
      },
      "execution_count": 20,
      "outputs": [
        {
          "output_type": "execute_result",
          "data": {
            "text/plain": [
              "687995182"
            ]
          },
          "metadata": {},
          "execution_count": 20
        }
      ]
    }
  ]
}